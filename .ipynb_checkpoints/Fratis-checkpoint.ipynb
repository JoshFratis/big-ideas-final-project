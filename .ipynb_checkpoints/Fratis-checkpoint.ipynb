{
 "cells": [
  {
   "cell_type": "code",
   "execution_count": null,
   "metadata": {},
   "outputs": [],
   "source": [
    "import pandas as pd\n",
    "import matplotlib.pyplot as plt\n",
    "\n",
    "df = pd.read_csv(\"arrests.csv\", sep=\",\")\n",
    "df.head()\n",
    "\n",
    "arrests_by_neighborhood = df['INCIDENTNEIGHBORHOOD'].value_counts()\n",
    "arrests_by_neighborhood.plot(kind='bar', figsize=(30,15))\n",
    "plt.title('Number of Arrests by Neighborhood')\n",
    "plt.xlabel('Neighborhood')\n",
    "plt.ylabel('Number of Arrests')\n",
    "plt.show()\n"
   ]
  }
 ],
 "metadata": {
  "kernelspec": {
   "display_name": "Python 3",
   "language": "python",
   "name": "python3"
  },
  "language_info": {
   "codemirror_mode": {
    "name": "ipython",
    "version": 3
   },
   "file_extension": ".py",
   "mimetype": "text/x-python",
   "name": "python",
   "nbconvert_exporter": "python",
   "pygments_lexer": "ipython3",
   "version": "3.8.3"
  }
 },
 "nbformat": 4,
 "nbformat_minor": 4
}
