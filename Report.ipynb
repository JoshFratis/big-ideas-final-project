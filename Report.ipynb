{
 "cells": [
  {
   "cell_type": "markdown",
   "metadata": {},
   "source": [
    "Introduction:\n",
    "This project seeks to determine the best neighborhood in Pittsburgh. We define the \"best\" neighborhood as the one which is safest to live in. We determine the safety of each neighborhood by the number of fire incidents and police arrests occured there, relative to its population. We find it important to compare the number of dangerous events which have occured in a neighborhood relative to its population because some neighborhoods may be vastly different sizes. We are not interested purely in the number of dangerous events which have occured in a neighborhood, but in the likelihood of one who lives in said neighborhood experiencing a dangerous event. "
   ]
  },
  {
   "cell_type": "markdown",
   "metadata": {},
   "source": [
    "Our metric is safety. The best neighborhood is the one which is the safest. In order to measure the safety of a neighborhood, we will be analyzing both the number of fire incidents and police arrests in each neighborhood relative to its population. Our datasets include fire incidents, police arrests, and population by neighborhood."
   ]
  },
  {
   "cell_type": "markdown",
   "metadata": {},
   "source": [
    "The Best Neighborhood: Apply the metric from the previous section to determine the best neighborhood in Pittsburgh. Beyond just executing code, provide a narrative about why you think this is the best neighborhood. Incorporate a data visualization, perhaps to rank all of the neighborhoods or show a neighborhood’s best-ness over time. The key is to make a data driven argument.\n"
   ]
  },
  {
   "cell_type": "markdown",
   "metadata": {},
   "source": [
    "Conclusion: Reflect on how the data-driven determination of “best neighborhood” is the same or different from your personal favorite neighborhood. Each member of the group should write their own response to this."
   ]
  }
 ],
 "metadata": {
  "kernelspec": {
   "display_name": "Python 3",
   "language": "python",
   "name": "python3"
  },
  "language_info": {
   "codemirror_mode": {
    "name": "ipython",
    "version": 3
   },
   "file_extension": ".py",
   "mimetype": "text/x-python",
   "name": "python",
   "nbconvert_exporter": "python",
   "pygments_lexer": "ipython3",
   "version": "3.8.3"
  }
 },
 "nbformat": 4,
 "nbformat_minor": 4
}
